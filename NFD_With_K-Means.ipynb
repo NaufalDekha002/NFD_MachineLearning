{
 "cells": [
  {
   "cell_type": "code",
   "execution_count": 1,
   "metadata": {},
   "outputs": [],
   "source": [
    "import pandas as pd\n",
    "import numpy as np\n",
    "import sklearn\n",
    "import seaborn as sns\n",
    "from sklearn.model_selection import train_test_split\n",
    "from sklearn.neighbors import KNeighborsClassifier\n",
    "from sklearn.metrics import accuracy_score, confusion_matrix, classification_report\n",
    "from sklearn.preprocessing import LabelEncoder\n",
    "from sklearn.preprocessing import StandardScaler\n",
    "import matplotlib.pyplot as plt"
   ]
  },
  {
   "cell_type": "code",
   "execution_count": 52,
   "metadata": {},
   "outputs": [
    {
     "data": {
      "text/html": [
       "<div>\n",
       "<style scoped>\n",
       "    .dataframe tbody tr th:only-of-type {\n",
       "        vertical-align: middle;\n",
       "    }\n",
       "\n",
       "    .dataframe tbody tr th {\n",
       "        vertical-align: top;\n",
       "    }\n",
       "\n",
       "    .dataframe thead th {\n",
       "        text-align: right;\n",
       "    }\n",
       "</style>\n",
       "<table border=\"1\" class=\"dataframe\">\n",
       "  <thead>\n",
       "    <tr style=\"text-align: right;\">\n",
       "      <th></th>\n",
       "      <th>timestamp</th>\n",
       "      <th>bandwidth_in (kb)</th>\n",
       "      <th>bandwidth_out (kb)</th>\n",
       "      <th>jenis_probo</th>\n",
       "      <th>ping</th>\n",
       "      <th>label</th>\n",
       "    </tr>\n",
       "  </thead>\n",
       "  <tbody>\n",
       "    <tr>\n",
       "      <th>0</th>\n",
       "      <td>2024-12-01 00:00:00</td>\n",
       "      <td>1924</td>\n",
       "      <td>509</td>\n",
       "      <td>ftp</td>\n",
       "      <td>28.23</td>\n",
       "      <td>Normal</td>\n",
       "    </tr>\n",
       "    <tr>\n",
       "      <th>1</th>\n",
       "      <td>2024-12-01 00:00:15</td>\n",
       "      <td>2386</td>\n",
       "      <td>1779</td>\n",
       "      <td>ftp</td>\n",
       "      <td>74.33</td>\n",
       "      <td>Normal</td>\n",
       "    </tr>\n",
       "    <tr>\n",
       "      <th>2</th>\n",
       "      <td>2024-12-01 00:01:10</td>\n",
       "      <td>1524</td>\n",
       "      <td>9774</td>\n",
       "      <td>http</td>\n",
       "      <td>4.15</td>\n",
       "      <td>Flood</td>\n",
       "    </tr>\n",
       "    <tr>\n",
       "      <th>3</th>\n",
       "      <td>2024-12-01 00:00:18</td>\n",
       "      <td>3682</td>\n",
       "      <td>3911</td>\n",
       "      <td>https</td>\n",
       "      <td>60.60</td>\n",
       "      <td>Normal</td>\n",
       "    </tr>\n",
       "    <tr>\n",
       "      <th>4</th>\n",
       "      <td>2024-12-01 00:02:24</td>\n",
       "      <td>3357</td>\n",
       "      <td>11831</td>\n",
       "      <td>ftp</td>\n",
       "      <td>70.43</td>\n",
       "      <td>Flood</td>\n",
       "    </tr>\n",
       "    <tr>\n",
       "      <th>5</th>\n",
       "      <td>2024-12-01 00:02:15</td>\n",
       "      <td>3711</td>\n",
       "      <td>7459</td>\n",
       "      <td>https</td>\n",
       "      <td>28.54</td>\n",
       "      <td>Normal</td>\n",
       "    </tr>\n",
       "    <tr>\n",
       "      <th>6</th>\n",
       "      <td>2024-12-01 00:05:36</td>\n",
       "      <td>206</td>\n",
       "      <td>2715</td>\n",
       "      <td>ftp</td>\n",
       "      <td>42.84</td>\n",
       "      <td>Normal</td>\n",
       "    </tr>\n",
       "    <tr>\n",
       "      <th>7</th>\n",
       "      <td>2024-12-01 00:02:06</td>\n",
       "      <td>2647</td>\n",
       "      <td>3627</td>\n",
       "      <td>dns</td>\n",
       "      <td>34.32</td>\n",
       "      <td>Normal</td>\n",
       "    </tr>\n",
       "    <tr>\n",
       "      <th>8</th>\n",
       "      <td>2024-12-01 00:00:48</td>\n",
       "      <td>6324</td>\n",
       "      <td>1684</td>\n",
       "      <td>icmp</td>\n",
       "      <td>84.90</td>\n",
       "      <td>Normal</td>\n",
       "    </tr>\n",
       "    <tr>\n",
       "      <th>9</th>\n",
       "      <td>2024-12-01 00:05:51</td>\n",
       "      <td>4433</td>\n",
       "      <td>811</td>\n",
       "      <td>ftp</td>\n",
       "      <td>46.48</td>\n",
       "      <td>Normal</td>\n",
       "    </tr>\n",
       "  </tbody>\n",
       "</table>\n",
       "</div>"
      ],
      "text/plain": [
       "             timestamp  bandwidth_in (kb)  bandwidth_out (kb) jenis_probo  \\\n",
       "0  2024-12-01 00:00:00               1924                 509         ftp   \n",
       "1  2024-12-01 00:00:15               2386                1779         ftp   \n",
       "2  2024-12-01 00:01:10               1524                9774        http   \n",
       "3  2024-12-01 00:00:18               3682                3911       https   \n",
       "4  2024-12-01 00:02:24               3357               11831         ftp   \n",
       "5  2024-12-01 00:02:15               3711                7459       https   \n",
       "6  2024-12-01 00:05:36                206                2715         ftp   \n",
       "7  2024-12-01 00:02:06               2647                3627         dns   \n",
       "8  2024-12-01 00:00:48               6324                1684        icmp   \n",
       "9  2024-12-01 00:05:51               4433                 811         ftp   \n",
       "\n",
       "    ping   label  \n",
       "0  28.23  Normal  \n",
       "1  74.33  Normal  \n",
       "2   4.15   Flood  \n",
       "3  60.60  Normal  \n",
       "4  70.43   Flood  \n",
       "5  28.54  Normal  \n",
       "6  42.84  Normal  \n",
       "7  34.32  Normal  \n",
       "8  84.90  Normal  \n",
       "9  46.48  Normal  "
      ]
     },
     "execution_count": 52,
     "metadata": {},
     "output_type": "execute_result"
    }
   ],
   "source": [
    "networkpatterns = pd.read_csv('network_traffic_data_extended.csv')\n",
    "networkpatterns.head(10)"
   ]
  },
  {
   "cell_type": "code",
   "execution_count": 53,
   "metadata": {},
   "outputs": [
    {
     "data": {
      "text/html": [
       "<div>\n",
       "<style scoped>\n",
       "    .dataframe tbody tr th:only-of-type {\n",
       "        vertical-align: middle;\n",
       "    }\n",
       "\n",
       "    .dataframe tbody tr th {\n",
       "        vertical-align: top;\n",
       "    }\n",
       "\n",
       "    .dataframe thead th {\n",
       "        text-align: right;\n",
       "    }\n",
       "</style>\n",
       "<table border=\"1\" class=\"dataframe\">\n",
       "  <thead>\n",
       "    <tr style=\"text-align: right;\">\n",
       "      <th></th>\n",
       "      <th>timestamp</th>\n",
       "      <th>bandwidth_in (kb)</th>\n",
       "      <th>bandwidth_out (kb)</th>\n",
       "      <th>jenis_probo</th>\n",
       "      <th>ping</th>\n",
       "      <th>label</th>\n",
       "    </tr>\n",
       "  </thead>\n",
       "  <tbody>\n",
       "    <tr>\n",
       "      <th>2240</th>\n",
       "      <td>2024-12-04 07:39:01</td>\n",
       "      <td>3214</td>\n",
       "      <td>5626</td>\n",
       "      <td>udp</td>\n",
       "      <td>53.29</td>\n",
       "      <td>Normal</td>\n",
       "    </tr>\n",
       "    <tr>\n",
       "      <th>2241</th>\n",
       "      <td>2024-12-09 09:09:39</td>\n",
       "      <td>8061</td>\n",
       "      <td>4565</td>\n",
       "      <td>tcp</td>\n",
       "      <td>72.32</td>\n",
       "      <td>Flood</td>\n",
       "    </tr>\n",
       "    <tr>\n",
       "      <th>2242</th>\n",
       "      <td>2024-12-06 11:56:24</td>\n",
       "      <td>8739</td>\n",
       "      <td>1426</td>\n",
       "      <td>tcp</td>\n",
       "      <td>30.43</td>\n",
       "      <td>Flood</td>\n",
       "    </tr>\n",
       "    <tr>\n",
       "      <th>2243</th>\n",
       "      <td>2024-12-04 00:24:38</td>\n",
       "      <td>6157</td>\n",
       "      <td>7604</td>\n",
       "      <td>https</td>\n",
       "      <td>60.55</td>\n",
       "      <td>Normal</td>\n",
       "    </tr>\n",
       "    <tr>\n",
       "      <th>2244</th>\n",
       "      <td>2024-12-08 06:06:30</td>\n",
       "      <td>3564</td>\n",
       "      <td>4470</td>\n",
       "      <td>tcp</td>\n",
       "      <td>97.16</td>\n",
       "      <td>Normal</td>\n",
       "    </tr>\n",
       "    <tr>\n",
       "      <th>2245</th>\n",
       "      <td>2024-12-08 11:25:23</td>\n",
       "      <td>1143</td>\n",
       "      <td>5729</td>\n",
       "      <td>http</td>\n",
       "      <td>72.25</td>\n",
       "      <td>Normal</td>\n",
       "    </tr>\n",
       "    <tr>\n",
       "      <th>2246</th>\n",
       "      <td>2024-12-06 02:40:45</td>\n",
       "      <td>7605</td>\n",
       "      <td>3694</td>\n",
       "      <td>icmp</td>\n",
       "      <td>92.27</td>\n",
       "      <td>Normal</td>\n",
       "    </tr>\n",
       "    <tr>\n",
       "      <th>2247</th>\n",
       "      <td>2024-12-09 17:03:00</td>\n",
       "      <td>9248</td>\n",
       "      <td>8723</td>\n",
       "      <td>udp</td>\n",
       "      <td>60.99</td>\n",
       "      <td>Flood</td>\n",
       "    </tr>\n",
       "    <tr>\n",
       "      <th>2248</th>\n",
       "      <td>2024-12-06 05:39:28</td>\n",
       "      <td>3296</td>\n",
       "      <td>2089</td>\n",
       "      <td>https</td>\n",
       "      <td>50.70</td>\n",
       "      <td>Normal</td>\n",
       "    </tr>\n",
       "    <tr>\n",
       "      <th>2249</th>\n",
       "      <td>2024-12-04 23:16:26</td>\n",
       "      <td>6275</td>\n",
       "      <td>7007</td>\n",
       "      <td>tcp</td>\n",
       "      <td>19.23</td>\n",
       "      <td>Normal</td>\n",
       "    </tr>\n",
       "  </tbody>\n",
       "</table>\n",
       "</div>"
      ],
      "text/plain": [
       "                timestamp  bandwidth_in (kb)  bandwidth_out (kb) jenis_probo  \\\n",
       "2240  2024-12-04 07:39:01               3214                5626         udp   \n",
       "2241  2024-12-09 09:09:39               8061                4565         tcp   \n",
       "2242  2024-12-06 11:56:24               8739                1426         tcp   \n",
       "2243  2024-12-04 00:24:38               6157                7604       https   \n",
       "2244  2024-12-08 06:06:30               3564                4470         tcp   \n",
       "2245  2024-12-08 11:25:23               1143                5729        http   \n",
       "2246  2024-12-06 02:40:45               7605                3694        icmp   \n",
       "2247  2024-12-09 17:03:00               9248                8723         udp   \n",
       "2248  2024-12-06 05:39:28               3296                2089       https   \n",
       "2249  2024-12-04 23:16:26               6275                7007         tcp   \n",
       "\n",
       "       ping   label  \n",
       "2240  53.29  Normal  \n",
       "2241  72.32   Flood  \n",
       "2242  30.43   Flood  \n",
       "2243  60.55  Normal  \n",
       "2244  97.16  Normal  \n",
       "2245  72.25  Normal  \n",
       "2246  92.27  Normal  \n",
       "2247  60.99   Flood  \n",
       "2248  50.70  Normal  \n",
       "2249  19.23  Normal  "
      ]
     },
     "execution_count": 53,
     "metadata": {},
     "output_type": "execute_result"
    }
   ],
   "source": [
    "networkpatterns.tail(10)"
   ]
  },
  {
   "cell_type": "code",
   "execution_count": 54,
   "metadata": {},
   "outputs": [
    {
     "name": "stdout",
     "output_type": "stream",
     "text": [
      "<class 'pandas.core.frame.DataFrame'>\n",
      "RangeIndex: 2250 entries, 0 to 2249\n",
      "Data columns (total 6 columns):\n",
      " #   Column              Non-Null Count  Dtype  \n",
      "---  ------              --------------  -----  \n",
      " 0   timestamp           2250 non-null   object \n",
      " 1   bandwidth_in (kb)   2250 non-null   int64  \n",
      " 2   bandwidth_out (kb)  2250 non-null   int64  \n",
      " 3   jenis_probo         2250 non-null   object \n",
      " 4   ping                2250 non-null   float64\n",
      " 5   label               2250 non-null   object \n",
      "dtypes: float64(1), int64(2), object(3)\n",
      "memory usage: 105.6+ KB\n"
     ]
    }
   ],
   "source": [
    "networkpatterns.info()"
   ]
  },
  {
   "cell_type": "code",
   "execution_count": 5,
   "metadata": {},
   "outputs": [
    {
     "data": {
      "text/html": [
       "<div>\n",
       "<style scoped>\n",
       "    .dataframe tbody tr th:only-of-type {\n",
       "        vertical-align: middle;\n",
       "    }\n",
       "\n",
       "    .dataframe tbody tr th {\n",
       "        vertical-align: top;\n",
       "    }\n",
       "\n",
       "    .dataframe thead th {\n",
       "        text-align: right;\n",
       "    }\n",
       "</style>\n",
       "<table border=\"1\" class=\"dataframe\">\n",
       "  <thead>\n",
       "    <tr style=\"text-align: right;\">\n",
       "      <th></th>\n",
       "      <th>timestamp</th>\n",
       "      <th>bandwidth_in (kb)</th>\n",
       "      <th>bandwidth_out (kb)</th>\n",
       "      <th>jenis_probo</th>\n",
       "      <th>ping</th>\n",
       "      <th>label</th>\n",
       "    </tr>\n",
       "  </thead>\n",
       "  <tbody>\n",
       "    <tr>\n",
       "      <th>0</th>\n",
       "      <td>2024-12-01 00:00:00</td>\n",
       "      <td>1924</td>\n",
       "      <td>509</td>\n",
       "      <td>ftp</td>\n",
       "      <td>28.23</td>\n",
       "      <td>0</td>\n",
       "    </tr>\n",
       "    <tr>\n",
       "      <th>1</th>\n",
       "      <td>2024-12-01 00:00:15</td>\n",
       "      <td>2386</td>\n",
       "      <td>1779</td>\n",
       "      <td>ftp</td>\n",
       "      <td>74.33</td>\n",
       "      <td>0</td>\n",
       "    </tr>\n",
       "    <tr>\n",
       "      <th>2</th>\n",
       "      <td>2024-12-01 00:01:10</td>\n",
       "      <td>1524</td>\n",
       "      <td>9774</td>\n",
       "      <td>http</td>\n",
       "      <td>4.15</td>\n",
       "      <td>1</td>\n",
       "    </tr>\n",
       "    <tr>\n",
       "      <th>3</th>\n",
       "      <td>2024-12-01 00:00:18</td>\n",
       "      <td>3682</td>\n",
       "      <td>3911</td>\n",
       "      <td>https</td>\n",
       "      <td>60.60</td>\n",
       "      <td>0</td>\n",
       "    </tr>\n",
       "    <tr>\n",
       "      <th>4</th>\n",
       "      <td>2024-12-01 00:02:24</td>\n",
       "      <td>3357</td>\n",
       "      <td>11831</td>\n",
       "      <td>ftp</td>\n",
       "      <td>70.43</td>\n",
       "      <td>1</td>\n",
       "    </tr>\n",
       "    <tr>\n",
       "      <th>...</th>\n",
       "      <td>...</td>\n",
       "      <td>...</td>\n",
       "      <td>...</td>\n",
       "      <td>...</td>\n",
       "      <td>...</td>\n",
       "      <td>...</td>\n",
       "    </tr>\n",
       "    <tr>\n",
       "      <th>2245</th>\n",
       "      <td>2024-12-08 11:25:23</td>\n",
       "      <td>1143</td>\n",
       "      <td>5729</td>\n",
       "      <td>http</td>\n",
       "      <td>72.25</td>\n",
       "      <td>0</td>\n",
       "    </tr>\n",
       "    <tr>\n",
       "      <th>2246</th>\n",
       "      <td>2024-12-06 02:40:45</td>\n",
       "      <td>7605</td>\n",
       "      <td>3694</td>\n",
       "      <td>icmp</td>\n",
       "      <td>92.27</td>\n",
       "      <td>0</td>\n",
       "    </tr>\n",
       "    <tr>\n",
       "      <th>2247</th>\n",
       "      <td>2024-12-09 17:03:00</td>\n",
       "      <td>9248</td>\n",
       "      <td>8723</td>\n",
       "      <td>udp</td>\n",
       "      <td>60.99</td>\n",
       "      <td>1</td>\n",
       "    </tr>\n",
       "    <tr>\n",
       "      <th>2248</th>\n",
       "      <td>2024-12-06 05:39:28</td>\n",
       "      <td>3296</td>\n",
       "      <td>2089</td>\n",
       "      <td>https</td>\n",
       "      <td>50.70</td>\n",
       "      <td>0</td>\n",
       "    </tr>\n",
       "    <tr>\n",
       "      <th>2249</th>\n",
       "      <td>2024-12-04 23:16:26</td>\n",
       "      <td>6275</td>\n",
       "      <td>7007</td>\n",
       "      <td>tcp</td>\n",
       "      <td>19.23</td>\n",
       "      <td>0</td>\n",
       "    </tr>\n",
       "  </tbody>\n",
       "</table>\n",
       "<p>2250 rows × 6 columns</p>\n",
       "</div>"
      ],
      "text/plain": [
       "                timestamp  bandwidth_in (kb)  bandwidth_out (kb) jenis_probo  \\\n",
       "0     2024-12-01 00:00:00               1924                 509         ftp   \n",
       "1     2024-12-01 00:00:15               2386                1779         ftp   \n",
       "2     2024-12-01 00:01:10               1524                9774        http   \n",
       "3     2024-12-01 00:00:18               3682                3911       https   \n",
       "4     2024-12-01 00:02:24               3357               11831         ftp   \n",
       "...                   ...                ...                 ...         ...   \n",
       "2245  2024-12-08 11:25:23               1143                5729        http   \n",
       "2246  2024-12-06 02:40:45               7605                3694        icmp   \n",
       "2247  2024-12-09 17:03:00               9248                8723         udp   \n",
       "2248  2024-12-06 05:39:28               3296                2089       https   \n",
       "2249  2024-12-04 23:16:26               6275                7007         tcp   \n",
       "\n",
       "       ping  label  \n",
       "0     28.23      0  \n",
       "1     74.33      0  \n",
       "2      4.15      1  \n",
       "3     60.60      0  \n",
       "4     70.43      1  \n",
       "...     ...    ...  \n",
       "2245  72.25      0  \n",
       "2246  92.27      0  \n",
       "2247  60.99      1  \n",
       "2248  50.70      0  \n",
       "2249  19.23      0  \n",
       "\n",
       "[2250 rows x 6 columns]"
      ]
     },
     "execution_count": 5,
     "metadata": {},
     "output_type": "execute_result"
    }
   ],
   "source": [
    "networkpatterns['label'] = networkpatterns['label'].map({'Normal': 0, 'Flood': 1}) \n",
    "networkpatterns"
   ]
  },
  {
   "cell_type": "code",
   "execution_count": 55,
   "metadata": {},
   "outputs": [],
   "source": [
    "x_networkpatterns = networkpatterns[['bandwidth_in (kb)', 'bandwidth_out (kb)', 'ping']]\n",
    "y_networkpatterns = networkpatterns['label']"
   ]
  },
  {
   "cell_type": "code",
   "execution_count": 56,
   "metadata": {},
   "outputs": [],
   "source": [
    "# === 2. Encode Label ===\n",
    "y_label = networkpatterns['label']\n",
    "label_encoder = LabelEncoder()\n",
    "y_encoded = label_encoder.fit_transform(y_label)  # Flood = 1, Normal = 0"
   ]
  },
  {
   "cell_type": "code",
   "execution_count": 57,
   "metadata": {},
   "outputs": [],
   "source": [
    "# Splitting Dataset menjadi Data Training dan Data Testing\n",
    "X_networkpatterns_train, X_networkpatterns_test, y_networkpatterns_train, y_networkpatterns_test = train_test_split(x_networkpatterns, y_networkpatterns, test_size=0.2, random_state=42, stratify=y_networkpatterns)"
   ]
  },
  {
   "cell_type": "code",
   "execution_count": 58,
   "metadata": {},
   "outputs": [],
   "source": [
    "sc_networkpatterns = StandardScaler()\n",
    "X_networkpatterns_train = sc_networkpatterns.fit_transform(X_networkpatterns_train)\n",
    "X_networkpatterns_test = sc_networkpatterns.transform(X_networkpatterns_test)"
   ]
  },
  {
   "cell_type": "code",
   "execution_count": 59,
   "metadata": {},
   "outputs": [
    {
     "name": "stdout",
     "output_type": "stream",
     "text": [
      "Dataset yang digunakan untuk training sebanyak:  1800 baris data\n",
      "      bandwidth_in (kb)  bandwidth_out (kb)      ping\n",
      "0             -0.353944           -0.560888  1.551419\n",
      "1             -1.108024           -1.398180  1.349528\n",
      "2             -1.322397           -0.439377 -1.600088\n",
      "3              0.130611            1.024912 -1.123910\n",
      "4             -0.895293            0.472441 -0.767896\n",
      "...                 ...                 ...       ...\n",
      "1795           1.362681           -0.074520  1.561495\n",
      "1796          -1.013477            1.794481 -1.566875\n",
      "1797          -1.323382            0.832438  0.779682\n",
      "1798           0.131924           -0.506775 -0.457410\n",
      "1799          -1.694021            1.042409  1.006949\n",
      "\n",
      "[1800 rows x 3 columns]\n"
     ]
    }
   ],
   "source": [
    "print(\"Dataset yang digunakan untuk training sebanyak: \", X_networkpatterns_train.shape[0], \"baris data\")\n",
    "print(pd.DataFrame(X_networkpatterns_train, columns= ['bandwidth_in (kb)', 'bandwidth_out (kb)', 'ping']))"
   ]
  },
  {
   "cell_type": "code",
   "execution_count": 60,
   "metadata": {},
   "outputs": [],
   "source": [
    "# Mencari nilai K yang optimal\n",
    "ER_networkpatterns = []\n",
    "k_range = range(1, 30)\n",
    "\n",
    "for k in k_range:\n",
    "    knn = KNeighborsClassifier(n_neighbors=k)\n",
    "    knn.fit(X_networkpatterns_train, y_networkpatterns_train)\n",
    "    y_pred = knn.predict(X_networkpatterns_test)\n",
    "    ER_networkpatterns.append(1 - accuracy_score(y_networkpatterns_test, y_pred))"
   ]
  },
  {
   "cell_type": "code",
   "execution_count": 61,
   "metadata": {},
   "outputs": [
    {
     "data": {
      "image/png": "[encoded data removed]",
      "text/plain": [
       "<Figure size 1000x600 with 1 Axes>"
      ]
     },
     "metadata": {},
     "output_type": "display_data"
    }
   ],
   "source": [
    "plt.figure(figsize=(10, 6))\n",
    "plt.plot(k_range, ER_networkpatterns, color='red', linestyle='dashed', marker='o', markerfacecolor='blue', markersize=10)\n",
    "plt.xlabel('Nilai K')\n",
    "plt.ylabel('Error Rate')\n",
    "plt.title('Error Rate terhadap Nilai K')\n",
    "plt.show()"
   ]
  },
  {
   "cell_type": "code",
   "execution_count": 63,
   "metadata": {},
   "outputs": [],
   "source": [
    "#Mencoba Prosedur Pelatihan Model dengan Algoritma KNN\n",
    "k_optimal = 11\n",
    "knn = KNeighborsClassifier(n_neighbors=k_optimal)\n",
    "knn.fit(X_networkpatterns_train, y_networkpatterns_train)\n",
    "y_networkpatterns_pred = knn.predict(X_networkpatterns_test)"
   ]
  },
  {
   "cell_type": "code",
   "execution_count": 65,
   "metadata": {},
   "outputs": [],
   "source": [
    "#Pembuatan Prediksi dari Nilai K\n",
    "pred_K11_networkpatterns = accuracy_score(y_networkpatterns_test, y_networkpatterns_pred)"
   ]
  },
  {
   "cell_type": "code",
   "execution_count": 66,
   "metadata": {},
   "outputs": [
    {
     "name": "stdout",
     "output_type": "stream",
     "text": [
      "Akurasi dengan k = 11 : 96.00%\n"
     ]
    }
   ],
   "source": [
    "#Melihat hasil prediksi dari nilai K 7\n",
    "print(f'Akurasi dengan k = {k_optimal} : {pred_K11_networkpatterns * 100:.2f}%')"
   ]
  },
  {
   "cell_type": "code",
   "execution_count": 67,
   "metadata": {},
   "outputs": [],
   "source": [
    "y_networkpatterns_test_array = np.array(y_networkpatterns_test)\n",
    "y_pred_array = np.array(y_networkpatterns_pred)"
   ]
  },
  {
   "cell_type": "code",
   "execution_count": 68,
   "metadata": {},
   "outputs": [
    {
     "name": "stdout",
     "output_type": "stream",
     "text": [
      "Bentuk y_networkpatterns_test_array:  (450,)\n",
      "Bentuk y_pred_K7_array:  (450,)\n"
     ]
    }
   ],
   "source": [
    "print(\"Bentuk y_networkpatterns_test_array: \", y_networkpatterns_test_array.shape)\n",
    "print(\"Bentuk y_pred_K7_array: \", y_networkpatterns_pred.shape)"
   ]
  },
  {
   "cell_type": "code",
   "execution_count": 69,
   "metadata": {},
   "outputs": [
    {
     "name": "stdout",
     "output_type": "stream",
     "text": [
      "Confusion Matrix K 11: \n",
      "[[177  11]\n",
      " [  7 255]]\n"
     ]
    }
   ],
   "source": [
    "#Confusion Matrix K 1\n",
    "print(\"Confusion Matrix K 11: \")\n",
    "print(confusion_matrix(y_networkpatterns_test_array, y_networkpatterns_pred))"
   ]
  },
  {
   "cell_type": "code",
   "execution_count": 70,
   "metadata": {},
   "outputs": [
    {
     "name": "stdout",
     "output_type": "stream",
     "text": [
      "\n",
      "Classification Report K 11: \n",
      "              precision    recall  f1-score   support\n",
      "\n",
      "       Flood       0.96      0.94      0.95       188\n",
      "      Normal       0.96      0.97      0.97       262\n",
      "\n",
      "    accuracy                           0.96       450\n",
      "   macro avg       0.96      0.96      0.96       450\n",
      "weighted avg       0.96      0.96      0.96       450\n",
      "\n"
     ]
    }
   ],
   "source": [
    "#Evaluasi Model dengan K = 1\n",
    "print(\"\\nClassification Report K 11: \")\n",
    "print(classification_report(y_networkpatterns_test_array, y_networkpatterns_pred))"
   ]
  }
 ],
 "metadata": {
  "kernelspec": {
   "display_name": "Python 3",
   "language": "python",
   "name": "python3"
  },
  "language_info": {
   "codemirror_mode": {
    "name": "ipython",
    "version": 3
   },
   "file_extension": ".py",
   "mimetype": "text/x-python",
   "name": "python",
   "nbconvert_exporter": "python",
   "pygments_lexer": "ipython3",
   "version": "3.9.11"
  }
 },
 "nbformat": 4,
 "nbformat_minor": 2
}
