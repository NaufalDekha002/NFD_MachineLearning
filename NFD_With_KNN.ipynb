{
 "cells": [
  {
   "cell_type": "code",
   "execution_count": 53,
   "metadata": {},
   "outputs": [],
   "source": [
    "import pandas as pd\n",
    "import numpy as np\n",
    "import sklearn\n",
    "import seaborn as sns\n",
    "from sklearn.model_selection import train_test_split\n",
    "from sklearn.neighbors import KNeighborsClassifier\n",
    "from sklearn.metrics import accuracy_score, confusion_matrix, classification_report\n",
    "from sklearn.preprocessing import LabelEncoder\n",
    "from sklearn.preprocessing import StandardScaler\n",
    "import matplotlib.pyplot as plt"
   ]
  },
  {
   "cell_type": "code",
   "execution_count": 54,
   "metadata": {},
   "outputs": [
    {
     "data": {
      "text/html": [
       "<div>\n",
       "<style scoped>\n",
       "    .dataframe tbody tr th:only-of-type {\n",
       "        vertical-align: middle;\n",
       "    }\n",
       "\n",
       "    .dataframe tbody tr th {\n",
       "        vertical-align: top;\n",
       "    }\n",
       "\n",
       "    .dataframe thead th {\n",
       "        text-align: right;\n",
       "    }\n",
       "</style>\n",
       "<table border=\"1\" class=\"dataframe\">\n",
       "  <thead>\n",
       "    <tr style=\"text-align: right;\">\n",
       "      <th></th>\n",
       "      <th>timestamp</th>\n",
       "      <th>bandwidth_in (kb)</th>\n",
       "      <th>bandwidth_out (kb)</th>\n",
       "      <th>jenis_probo</th>\n",
       "      <th>ping</th>\n",
       "      <th>label</th>\n",
       "    </tr>\n",
       "  </thead>\n",
       "  <tbody>\n",
       "    <tr>\n",
       "      <th>0</th>\n",
       "      <td>2024-12-01 00:00:00</td>\n",
       "      <td>1924</td>\n",
       "      <td>509</td>\n",
       "      <td>ftp</td>\n",
       "      <td>28.23</td>\n",
       "      <td>Normal</td>\n",
       "    </tr>\n",
       "    <tr>\n",
       "      <th>1</th>\n",
       "      <td>2024-12-01 00:00:15</td>\n",
       "      <td>2386</td>\n",
       "      <td>1779</td>\n",
       "      <td>ftp</td>\n",
       "      <td>74.33</td>\n",
       "      <td>Normal</td>\n",
       "    </tr>\n",
       "    <tr>\n",
       "      <th>2</th>\n",
       "      <td>2024-12-01 00:01:10</td>\n",
       "      <td>1524</td>\n",
       "      <td>9774</td>\n",
       "      <td>http</td>\n",
       "      <td>4.15</td>\n",
       "      <td>Flood</td>\n",
       "    </tr>\n",
       "    <tr>\n",
       "      <th>3</th>\n",
       "      <td>2024-12-01 00:00:18</td>\n",
       "      <td>3682</td>\n",
       "      <td>3911</td>\n",
       "      <td>https</td>\n",
       "      <td>60.60</td>\n",
       "      <td>Normal</td>\n",
       "    </tr>\n",
       "    <tr>\n",
       "      <th>4</th>\n",
       "      <td>2024-12-01 00:02:24</td>\n",
       "      <td>3357</td>\n",
       "      <td>11831</td>\n",
       "      <td>ftp</td>\n",
       "      <td>70.43</td>\n",
       "      <td>Flood</td>\n",
       "    </tr>\n",
       "    <tr>\n",
       "      <th>5</th>\n",
       "      <td>2024-12-01 00:02:15</td>\n",
       "      <td>3711</td>\n",
       "      <td>7459</td>\n",
       "      <td>https</td>\n",
       "      <td>28.54</td>\n",
       "      <td>Normal</td>\n",
       "    </tr>\n",
       "    <tr>\n",
       "      <th>6</th>\n",
       "      <td>2024-12-01 00:05:36</td>\n",
       "      <td>206</td>\n",
       "      <td>2715</td>\n",
       "      <td>ftp</td>\n",
       "      <td>42.84</td>\n",
       "      <td>Normal</td>\n",
       "    </tr>\n",
       "    <tr>\n",
       "      <th>7</th>\n",
       "      <td>2024-12-01 00:02:06</td>\n",
       "      <td>2647</td>\n",
       "      <td>3627</td>\n",
       "      <td>dns</td>\n",
       "      <td>34.32</td>\n",
       "      <td>Normal</td>\n",
       "    </tr>\n",
       "    <tr>\n",
       "      <th>8</th>\n",
       "      <td>2024-12-01 00:00:48</td>\n",
       "      <td>6324</td>\n",
       "      <td>1684</td>\n",
       "      <td>icmp</td>\n",
       "      <td>84.90</td>\n",
       "      <td>Normal</td>\n",
       "    </tr>\n",
       "    <tr>\n",
       "      <th>9</th>\n",
       "      <td>2024-12-01 00:05:51</td>\n",
       "      <td>4433</td>\n",
       "      <td>811</td>\n",
       "      <td>ftp</td>\n",
       "      <td>46.48</td>\n",
       "      <td>Normal</td>\n",
       "    </tr>\n",
       "  </tbody>\n",
       "</table>\n",
       "</div>"
      ],
      "text/plain": [
       "             timestamp  bandwidth_in (kb)  bandwidth_out (kb) jenis_probo  \\\n",
       "0  2024-12-01 00:00:00               1924                 509         ftp   \n",
       "1  2024-12-01 00:00:15               2386                1779         ftp   \n",
       "2  2024-12-01 00:01:10               1524                9774        http   \n",
       "3  2024-12-01 00:00:18               3682                3911       https   \n",
       "4  2024-12-01 00:02:24               3357               11831         ftp   \n",
       "5  2024-12-01 00:02:15               3711                7459       https   \n",
       "6  2024-12-01 00:05:36                206                2715         ftp   \n",
       "7  2024-12-01 00:02:06               2647                3627         dns   \n",
       "8  2024-12-01 00:00:48               6324                1684        icmp   \n",
       "9  2024-12-01 00:05:51               4433                 811         ftp   \n",
       "\n",
       "    ping   label  \n",
       "0  28.23  Normal  \n",
       "1  74.33  Normal  \n",
       "2   4.15   Flood  \n",
       "3  60.60  Normal  \n",
       "4  70.43   Flood  \n",
       "5  28.54  Normal  \n",
       "6  42.84  Normal  \n",
       "7  34.32  Normal  \n",
       "8  84.90  Normal  \n",
       "9  46.48  Normal  "
      ]
     },
     "execution_count": 54,
     "metadata": {},
     "output_type": "execute_result"
    }
   ],
   "source": [
    "networkpatterns = pd.read_csv('network_traffic_data_extended.csv')\n",
    "networkpatterns.head(10)"
   ]
  },
  {
   "cell_type": "code",
   "execution_count": 55,
   "metadata": {},
   "outputs": [
    {
     "data": {
      "text/html": [
       "<div>\n",
       "<style scoped>\n",
       "    .dataframe tbody tr th:only-of-type {\n",
       "        vertical-align: middle;\n",
       "    }\n",
       "\n",
       "    .dataframe tbody tr th {\n",
       "        vertical-align: top;\n",
       "    }\n",
       "\n",
       "    .dataframe thead th {\n",
       "        text-align: right;\n",
       "    }\n",
       "</style>\n",
       "<table border=\"1\" class=\"dataframe\">\n",
       "  <thead>\n",
       "    <tr style=\"text-align: right;\">\n",
       "      <th></th>\n",
       "      <th>timestamp</th>\n",
       "      <th>bandwidth_in (kb)</th>\n",
       "      <th>bandwidth_out (kb)</th>\n",
       "      <th>jenis_probo</th>\n",
       "      <th>ping</th>\n",
       "      <th>label</th>\n",
       "    </tr>\n",
       "  </thead>\n",
       "  <tbody>\n",
       "    <tr>\n",
       "      <th>8105</th>\n",
       "      <td>2024-12-23 08:00:00</td>\n",
       "      <td>4410</td>\n",
       "      <td>11341</td>\n",
       "      <td>icmp</td>\n",
       "      <td>116.97</td>\n",
       "      <td>Flood</td>\n",
       "    </tr>\n",
       "    <tr>\n",
       "      <th>8106</th>\n",
       "      <td>2024-12-11 05:00:00</td>\n",
       "      <td>7075</td>\n",
       "      <td>3133</td>\n",
       "      <td>https</td>\n",
       "      <td>164.85</td>\n",
       "      <td>Normal</td>\n",
       "    </tr>\n",
       "    <tr>\n",
       "      <th>8107</th>\n",
       "      <td>2024-12-18 19:00:00</td>\n",
       "      <td>8618</td>\n",
       "      <td>5062</td>\n",
       "      <td>http</td>\n",
       "      <td>102.18</td>\n",
       "      <td>Flood</td>\n",
       "    </tr>\n",
       "    <tr>\n",
       "      <th>8108</th>\n",
       "      <td>2024-12-18 09:00:00</td>\n",
       "      <td>1951</td>\n",
       "      <td>4941</td>\n",
       "      <td>icmp</td>\n",
       "      <td>30.18</td>\n",
       "      <td>Normal</td>\n",
       "    </tr>\n",
       "    <tr>\n",
       "      <th>8109</th>\n",
       "      <td>2024-12-23 07:00:00</td>\n",
       "      <td>6899</td>\n",
       "      <td>2162</td>\n",
       "      <td>icmp</td>\n",
       "      <td>28.15</td>\n",
       "      <td>Normal</td>\n",
       "    </tr>\n",
       "    <tr>\n",
       "      <th>8110</th>\n",
       "      <td>2024-12-16 10:00:00</td>\n",
       "      <td>4047</td>\n",
       "      <td>11699</td>\n",
       "      <td>tcp</td>\n",
       "      <td>49.20</td>\n",
       "      <td>Flood</td>\n",
       "    </tr>\n",
       "    <tr>\n",
       "      <th>8111</th>\n",
       "      <td>2024-12-20 17:00:00</td>\n",
       "      <td>6874</td>\n",
       "      <td>1240</td>\n",
       "      <td>https</td>\n",
       "      <td>100.49</td>\n",
       "      <td>Normal</td>\n",
       "    </tr>\n",
       "    <tr>\n",
       "      <th>8112</th>\n",
       "      <td>2024-12-15 04:00:00</td>\n",
       "      <td>10656</td>\n",
       "      <td>7533</td>\n",
       "      <td>tcp</td>\n",
       "      <td>190.19</td>\n",
       "      <td>Flood</td>\n",
       "    </tr>\n",
       "    <tr>\n",
       "      <th>8113</th>\n",
       "      <td>2024-12-15 16:00:00</td>\n",
       "      <td>5979</td>\n",
       "      <td>3019</td>\n",
       "      <td>https</td>\n",
       "      <td>54.42</td>\n",
       "      <td>Normal</td>\n",
       "    </tr>\n",
       "    <tr>\n",
       "      <th>8114</th>\n",
       "      <td>2024-12-12 22:00:00</td>\n",
       "      <td>2136</td>\n",
       "      <td>1176</td>\n",
       "      <td>tcp</td>\n",
       "      <td>48.59</td>\n",
       "      <td>Normal</td>\n",
       "    </tr>\n",
       "  </tbody>\n",
       "</table>\n",
       "</div>"
      ],
      "text/plain": [
       "                timestamp  bandwidth_in (kb)  bandwidth_out (kb) jenis_probo  \\\n",
       "8105  2024-12-23 08:00:00               4410               11341        icmp   \n",
       "8106  2024-12-11 05:00:00               7075                3133       https   \n",
       "8107  2024-12-18 19:00:00               8618                5062        http   \n",
       "8108  2024-12-18 09:00:00               1951                4941        icmp   \n",
       "8109  2024-12-23 07:00:00               6899                2162        icmp   \n",
       "8110  2024-12-16 10:00:00               4047               11699         tcp   \n",
       "8111  2024-12-20 17:00:00               6874                1240       https   \n",
       "8112  2024-12-15 04:00:00              10656                7533         tcp   \n",
       "8113  2024-12-15 16:00:00               5979                3019       https   \n",
       "8114  2024-12-12 22:00:00               2136                1176         tcp   \n",
       "\n",
       "        ping   label  \n",
       "8105  116.97   Flood  \n",
       "8106  164.85  Normal  \n",
       "8107  102.18   Flood  \n",
       "8108   30.18  Normal  \n",
       "8109   28.15  Normal  \n",
       "8110   49.20   Flood  \n",
       "8111  100.49  Normal  \n",
       "8112  190.19   Flood  \n",
       "8113   54.42  Normal  \n",
       "8114   48.59  Normal  "
      ]
     },
     "execution_count": 55,
     "metadata": {},
     "output_type": "execute_result"
    }
   ],
   "source": [
    "networkpatterns.tail(10)"
   ]
  },
  {
   "cell_type": "code",
   "execution_count": 56,
   "metadata": {},
   "outputs": [
    {
     "name": "stdout",
     "output_type": "stream",
     "text": [
      "<class 'pandas.core.frame.DataFrame'>\n",
      "RangeIndex: 8115 entries, 0 to 8114\n",
      "Data columns (total 6 columns):\n",
      " #   Column              Non-Null Count  Dtype  \n",
      "---  ------              --------------  -----  \n",
      " 0   timestamp           8115 non-null   object \n",
      " 1   bandwidth_in (kb)   8115 non-null   int64  \n",
      " 2   bandwidth_out (kb)  8115 non-null   int64  \n",
      " 3   jenis_probo         8115 non-null   object \n",
      " 4   ping                8115 non-null   float64\n",
      " 5   label               8115 non-null   object \n",
      "dtypes: float64(1), int64(2), object(3)\n",
      "memory usage: 380.5+ KB\n"
     ]
    }
   ],
   "source": [
    "networkpatterns.info()"
   ]
  },
  {
   "cell_type": "code",
   "execution_count": 57,
   "metadata": {},
   "outputs": [],
   "source": [
    "# === 1. Data Preparation ===\n",
    "x_networkpatterns = networkpatterns[['bandwidth_in (kb)', 'bandwidth_out (kb)', 'ping']]\n",
    "y_networkpatterns = networkpatterns['label']"
   ]
  },
  {
   "cell_type": "code",
   "execution_count": 58,
   "metadata": {},
   "outputs": [],
   "source": [
    "# === 2. Encode Label ===\n",
    "label_encoder = LabelEncoder()\n",
    "y_encoded = label_encoder.fit_transform(y_networkpatterns)  # Flood = 1, Normal = 0"
   ]
  },
  {
   "cell_type": "code",
   "execution_count": 59,
   "metadata": {},
   "outputs": [],
   "source": [
    "# Splitting Dataset menjadi Data Training dan Data Testing\n",
    "X_networkpatterns_train, X_networkpatterns_test, y_networkpatterns_train, y_networkpatterns_test = train_test_split(\n",
    "    x_networkpatterns, y_encoded, test_size=0.2, random_state=42, stratify=y_encoded)"
   ]
  },
  {
   "cell_type": "code",
   "execution_count": 60,
   "metadata": {},
   "outputs": [],
   "source": [
    "# Standardisasi\n",
    "sc_networkpatterns = StandardScaler()\n",
    "X_networkpatterns_train = sc_networkpatterns.fit_transform(X_networkpatterns_train)\n",
    "X_networkpatterns_test = sc_networkpatterns.transform(X_networkpatterns_test)"
   ]
  },
  {
   "cell_type": "code",
   "execution_count": 61,
   "metadata": {},
   "outputs": [],
   "source": [
    "ER_networkpatterns = []\n",
    "k_range = range(1, 30)\n",
    "\n",
    "for k in k_range:\n",
    "    knn = KNeighborsClassifier(n_neighbors=k)\n",
    "    knn.fit(X_networkpatterns_train, y_networkpatterns_train)\n",
    "    y_pred = knn.predict(X_networkpatterns_test)\n",
    "    ER_networkpatterns.append(1 - accuracy_score(y_networkpatterns_test, y_pred))"
   ]
  },
  {
   "cell_type": "code",
   "execution_count": 62,
   "metadata": {},
   "outputs": [
    {
     "data": {
      "image/png": "[encoded data removed]",
      "text/plain": [
       "<Figure size 1000x600 with 1 Axes>"
      ]
     },
     "metadata": {},
     "output_type": "display_data"
    }
   ],
   "source": [
    "plt.figure(figsize=(10, 6))\n",
    "plt.plot(k_range, ER_networkpatterns, color='red', linestyle='dashed', marker='o', markerfacecolor='blue', markersize=10)\n",
    "plt.xlabel('Nilai K')\n",
    "plt.ylabel('Error Rate')\n",
    "plt.title('Error Rate terhadap Nilai K')\n",
    "plt.show()"
   ]
  },
  {
   "cell_type": "code",
   "execution_count": 65,
   "metadata": {},
   "outputs": [],
   "source": [
    "# Prosedur Pelatihan Model dengan KNN\n",
    "k_optimal = 12\n",
    "knn = KNeighborsClassifier(n_neighbors=k_optimal)\n",
    "knn.fit(X_networkpatterns_train, y_networkpatterns_train)\n",
    "y_networkpatterns_pred = knn.predict(X_networkpatterns_test)"
   ]
  },
  {
   "cell_type": "code",
   "execution_count": 66,
   "metadata": {},
   "outputs": [
    {
     "name": "stdout",
     "output_type": "stream",
     "text": [
      "Akurasi dengan k = 12 : 98.46%\n"
     ]
    }
   ],
   "source": [
    "#Evaluasi Model\n",
    "print(f'Akurasi dengan k = {k_optimal} : {accuracy_score(y_networkpatterns_test, y_networkpatterns_pred) * 100:.2f}%')"
   ]
  },
  {
   "cell_type": "code",
   "execution_count": 68,
   "metadata": {},
   "outputs": [
    {
     "name": "stdout",
     "output_type": "stream",
     "text": [
      "\n",
      "Confusion Matrix K 12: \n"
     ]
    },
    {
     "data": {
      "image/png": "[encoded data removed]",
      "text/plain": [
       "<Figure size 800x600 with 2 Axes>"
      ]
     },
     "metadata": {},
     "output_type": "display_data"
    }
   ],
   "source": [
    "# Confusion Matrix\n",
    "conf_matrix = confusion_matrix(y_networkpatterns_test, y_networkpatterns_pred)\n",
    "\n",
    "# Print Confusion Matrix\n",
    "print(\"\\nConfusion Matrix K 12: \")\n",
    "\n",
    "# Visualisasi Confusion Matrix dengan Heatmap\n",
    "plt.figure(figsize=(8, 6))\n",
    "sns.heatmap(conf_matrix, annot=True, fmt=\"d\", cmap=\"Blues\", xticklabels=label_encoder.classes_, yticklabels=label_encoder.classes_)\n",
    "plt.title(\"Confusion Matrix\")\n",
    "plt.xlabel(\"Predicted Label\")\n",
    "plt.ylabel(\"True Label\")\n",
    "plt.show()"
   ]
  },
  {
   "cell_type": "code",
   "execution_count": 69,
   "metadata": {},
   "outputs": [
    {
     "name": "stdout",
     "output_type": "stream",
     "text": [
      "\n",
      "Classification Report K 12: \n",
      "              precision    recall  f1-score   support\n",
      "\n",
      "       Flood       0.98      0.99      0.99       838\n",
      "      Normal       0.99      0.98      0.98       785\n",
      "\n",
      "    accuracy                           0.98      1623\n",
      "   macro avg       0.98      0.98      0.98      1623\n",
      "weighted avg       0.98      0.98      0.98      1623\n",
      "\n"
     ]
    }
   ],
   "source": [
    "# Classification Report\n",
    "print(\"\\nClassification Report K 12: \")\n",
    "print(classification_report(y_networkpatterns_test, y_networkpatterns_pred, target_names=label_encoder.classes_))"
   ]
  },
  {
   "cell_type": "code",
   "execution_count": 70,
   "metadata": {},
   "outputs": [
    {
     "name": "stdout",
     "output_type": "stream",
     "text": [
      "\n",
      "Probabilitas Prediksi untuk Data Testing:\n",
      "Data 1:\n",
      "  Flood: 100.00%\n",
      "  Normal: 0.00%\n",
      "\n",
      "Data 2:\n",
      "  Flood: 16.67%\n",
      "  Normal: 83.33%\n",
      "\n",
      "Data 3:\n",
      "  Flood: 0.00%\n",
      "  Normal: 100.00%\n",
      "\n",
      "Data 4:\n",
      "  Flood: 0.00%\n",
      "  Normal: 100.00%\n",
      "\n",
      "Data 5:\n",
      "  Flood: 0.00%\n",
      "  Normal: 100.00%\n",
      "\n"
     ]
    }
   ],
   "source": [
    "# Prediksi Probabilitas\n",
    "print(\"\\nProbabilitas Prediksi untuk Data Testing:\")\n",
    "y_prob = knn.predict_proba(X_networkpatterns_test)\n",
    "\n",
    "# Contoh: Tampilkan probabilitas untuk 5 data pertama\n",
    "for i in range(5):\n",
    "    print(f\"Data {i+1}:\")\n",
    "    print(f\"  Flood: {y_prob[i][1] * 100:.2f}%\")\n",
    "    print(f\"  Normal: {y_prob[i][0] * 100:.2f}%\\n\")"
   ]
  }
 ],
 "metadata": {
  "kernelspec": {
   "display_name": "Python 3",
   "language": "python",
   "name": "python3"
  },
  "language_info": {
   "codemirror_mode": {
    "name": "ipython",
    "version": 3
   },
   "file_extension": ".py",
   "mimetype": "text/x-python",
   "name": "python",
   "nbconvert_exporter": "python",
   "pygments_lexer": "ipython3",
   "version": "3.9.11"
  }
 },
 "nbformat": 4,
 "nbformat_minor": 2
}
