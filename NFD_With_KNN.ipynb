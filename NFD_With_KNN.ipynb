{
 "cells": [
  {
   "cell_type": "code",
   "execution_count": 16,
   "metadata": {},
   "outputs": [],
   "source": [
    "import pandas as pd\n",
    "import numpy as np\n",
    "import sklearn\n",
    "from sklearn.model_selection import train_test_split\n",
    "from sklearn.neighbors import KNeighborsClassifier\n",
    "from sklearn.metrics import accuracy_score, confusion_matrix, classification_report\n",
    "from sklearn.preprocessing import LabelEncoder\n",
    "from sklearn.preprocessing import StandardScaler\n",
    "import matplotlib.pyplot as plt"
   ]
  },
  {
   "cell_type": "code",
   "execution_count": 17,
   "metadata": {},
   "outputs": [
    {
     "data": {
      "text/html": [
       "<div>\n",
       "<style scoped>\n",
       "    .dataframe tbody tr th:only-of-type {\n",
       "        vertical-align: middle;\n",
       "    }\n",
       "\n",
       "    .dataframe tbody tr th {\n",
       "        vertical-align: top;\n",
       "    }\n",
       "\n",
       "    .dataframe thead th {\n",
       "        text-align: right;\n",
       "    }\n",
       "</style>\n",
       "<table border=\"1\" class=\"dataframe\">\n",
       "  <thead>\n",
       "    <tr style=\"text-align: right;\">\n",
       "      <th></th>\n",
       "      <th>timestamp</th>\n",
       "      <th>bandwidth_in (kb)</th>\n",
       "      <th>bandwidth_out (kb)</th>\n",
       "      <th>jenis_probo</th>\n",
       "      <th>ping</th>\n",
       "      <th>label</th>\n",
       "    </tr>\n",
       "  </thead>\n",
       "  <tbody>\n",
       "    <tr>\n",
       "      <th>0</th>\n",
       "      <td>2024-12-01 00:00:00</td>\n",
       "      <td>1924</td>\n",
       "      <td>509</td>\n",
       "      <td>ftp</td>\n",
       "      <td>28.23</td>\n",
       "      <td>Normal</td>\n",
       "    </tr>\n",
       "    <tr>\n",
       "      <th>1</th>\n",
       "      <td>2024-12-01 00:00:15</td>\n",
       "      <td>2386</td>\n",
       "      <td>1779</td>\n",
       "      <td>ftp</td>\n",
       "      <td>74.33</td>\n",
       "      <td>Normal</td>\n",
       "    </tr>\n",
       "    <tr>\n",
       "      <th>2</th>\n",
       "      <td>2024-12-01 00:01:10</td>\n",
       "      <td>1524</td>\n",
       "      <td>9774</td>\n",
       "      <td>http</td>\n",
       "      <td>4.15</td>\n",
       "      <td>Flood</td>\n",
       "    </tr>\n",
       "    <tr>\n",
       "      <th>3</th>\n",
       "      <td>2024-12-01 00:00:18</td>\n",
       "      <td>3682</td>\n",
       "      <td>3911</td>\n",
       "      <td>https</td>\n",
       "      <td>60.60</td>\n",
       "      <td>Normal</td>\n",
       "    </tr>\n",
       "    <tr>\n",
       "      <th>4</th>\n",
       "      <td>2024-12-01 00:02:24</td>\n",
       "      <td>3357</td>\n",
       "      <td>11831</td>\n",
       "      <td>ftp</td>\n",
       "      <td>70.43</td>\n",
       "      <td>Flood</td>\n",
       "    </tr>\n",
       "    <tr>\n",
       "      <th>5</th>\n",
       "      <td>2024-12-01 00:02:15</td>\n",
       "      <td>3711</td>\n",
       "      <td>7459</td>\n",
       "      <td>https</td>\n",
       "      <td>28.54</td>\n",
       "      <td>Normal</td>\n",
       "    </tr>\n",
       "    <tr>\n",
       "      <th>6</th>\n",
       "      <td>2024-12-01 00:05:36</td>\n",
       "      <td>206</td>\n",
       "      <td>2715</td>\n",
       "      <td>ftp</td>\n",
       "      <td>42.84</td>\n",
       "      <td>Normal</td>\n",
       "    </tr>\n",
       "    <tr>\n",
       "      <th>7</th>\n",
       "      <td>2024-12-01 00:02:06</td>\n",
       "      <td>2647</td>\n",
       "      <td>3627</td>\n",
       "      <td>dns</td>\n",
       "      <td>34.32</td>\n",
       "      <td>Normal</td>\n",
       "    </tr>\n",
       "    <tr>\n",
       "      <th>8</th>\n",
       "      <td>2024-12-01 00:00:48</td>\n",
       "      <td>6324</td>\n",
       "      <td>1684</td>\n",
       "      <td>icmp</td>\n",
       "      <td>84.90</td>\n",
       "      <td>Normal</td>\n",
       "    </tr>\n",
       "    <tr>\n",
       "      <th>9</th>\n",
       "      <td>2024-12-01 00:05:51</td>\n",
       "      <td>4433</td>\n",
       "      <td>811</td>\n",
       "      <td>ftp</td>\n",
       "      <td>46.48</td>\n",
       "      <td>Normal</td>\n",
       "    </tr>\n",
       "  </tbody>\n",
       "</table>\n",
       "</div>"
      ],
      "text/plain": [
       "             timestamp  bandwidth_in (kb)  bandwidth_out (kb) jenis_probo  \\\n",
       "0  2024-12-01 00:00:00               1924                 509         ftp   \n",
       "1  2024-12-01 00:00:15               2386                1779         ftp   \n",
       "2  2024-12-01 00:01:10               1524                9774        http   \n",
       "3  2024-12-01 00:00:18               3682                3911       https   \n",
       "4  2024-12-01 00:02:24               3357               11831         ftp   \n",
       "5  2024-12-01 00:02:15               3711                7459       https   \n",
       "6  2024-12-01 00:05:36                206                2715         ftp   \n",
       "7  2024-12-01 00:02:06               2647                3627         dns   \n",
       "8  2024-12-01 00:00:48               6324                1684        icmp   \n",
       "9  2024-12-01 00:05:51               4433                 811         ftp   \n",
       "\n",
       "    ping   label  \n",
       "0  28.23  Normal  \n",
       "1  74.33  Normal  \n",
       "2   4.15   Flood  \n",
       "3  60.60  Normal  \n",
       "4  70.43   Flood  \n",
       "5  28.54  Normal  \n",
       "6  42.84  Normal  \n",
       "7  34.32  Normal  \n",
       "8  84.90  Normal  \n",
       "9  46.48  Normal  "
      ]
     },
     "execution_count": 17,
     "metadata": {},
     "output_type": "execute_result"
    }
   ],
   "source": [
    "networkpatterns = pd.read_csv('network_traffic_data_extended.csv')\n",
    "networkpatterns.head(10)"
   ]
  },
  {
   "cell_type": "code",
   "execution_count": 18,
   "metadata": {},
   "outputs": [
    {
     "data": {
      "text/html": [
       "<div>\n",
       "<style scoped>\n",
       "    .dataframe tbody tr th:only-of-type {\n",
       "        vertical-align: middle;\n",
       "    }\n",
       "\n",
       "    .dataframe tbody tr th {\n",
       "        vertical-align: top;\n",
       "    }\n",
       "\n",
       "    .dataframe thead th {\n",
       "        text-align: right;\n",
       "    }\n",
       "</style>\n",
       "<table border=\"1\" class=\"dataframe\">\n",
       "  <thead>\n",
       "    <tr style=\"text-align: right;\">\n",
       "      <th></th>\n",
       "      <th>timestamp</th>\n",
       "      <th>bandwidth_in (kb)</th>\n",
       "      <th>bandwidth_out (kb)</th>\n",
       "      <th>jenis_probo</th>\n",
       "      <th>ping</th>\n",
       "      <th>label</th>\n",
       "    </tr>\n",
       "  </thead>\n",
       "  <tbody>\n",
       "    <tr>\n",
       "      <th>6605</th>\n",
       "      <td>2024-12-17 01:00:00</td>\n",
       "      <td>10730</td>\n",
       "      <td>8464</td>\n",
       "      <td>tcp</td>\n",
       "      <td>147.19</td>\n",
       "      <td>Flood</td>\n",
       "    </tr>\n",
       "    <tr>\n",
       "      <th>6606</th>\n",
       "      <td>2024-12-24 18:00:00</td>\n",
       "      <td>3845</td>\n",
       "      <td>3345</td>\n",
       "      <td>udp</td>\n",
       "      <td>154.63</td>\n",
       "      <td>Normal</td>\n",
       "    </tr>\n",
       "    <tr>\n",
       "      <th>6607</th>\n",
       "      <td>2024-12-21 19:00:00</td>\n",
       "      <td>11797</td>\n",
       "      <td>10470</td>\n",
       "      <td>http</td>\n",
       "      <td>70.82</td>\n",
       "      <td>Flood</td>\n",
       "    </tr>\n",
       "    <tr>\n",
       "      <th>6608</th>\n",
       "      <td>2024-12-13 23:00:00</td>\n",
       "      <td>4165</td>\n",
       "      <td>6553</td>\n",
       "      <td>udp</td>\n",
       "      <td>60.25</td>\n",
       "      <td>Normal</td>\n",
       "    </tr>\n",
       "    <tr>\n",
       "      <th>6609</th>\n",
       "      <td>2024-12-13 10:00:00</td>\n",
       "      <td>8779</td>\n",
       "      <td>9878</td>\n",
       "      <td>tcp</td>\n",
       "      <td>22.90</td>\n",
       "      <td>Flood</td>\n",
       "    </tr>\n",
       "    <tr>\n",
       "      <th>6610</th>\n",
       "      <td>2024-12-11 14:00:00</td>\n",
       "      <td>6198</td>\n",
       "      <td>3550</td>\n",
       "      <td>icmp</td>\n",
       "      <td>127.05</td>\n",
       "      <td>Normal</td>\n",
       "    </tr>\n",
       "    <tr>\n",
       "      <th>6611</th>\n",
       "      <td>2024-12-16 18:00:00</td>\n",
       "      <td>10625</td>\n",
       "      <td>8534</td>\n",
       "      <td>icmp</td>\n",
       "      <td>165.72</td>\n",
       "      <td>Flood</td>\n",
       "    </tr>\n",
       "    <tr>\n",
       "      <th>6612</th>\n",
       "      <td>2024-12-15 18:00:00</td>\n",
       "      <td>7444</td>\n",
       "      <td>5807</td>\n",
       "      <td>http</td>\n",
       "      <td>61.92</td>\n",
       "      <td>Normal</td>\n",
       "    </tr>\n",
       "    <tr>\n",
       "      <th>6613</th>\n",
       "      <td>2024-12-13 21:00:00</td>\n",
       "      <td>6584</td>\n",
       "      <td>3367</td>\n",
       "      <td>udp</td>\n",
       "      <td>194.45</td>\n",
       "      <td>Normal</td>\n",
       "    </tr>\n",
       "    <tr>\n",
       "      <th>6614</th>\n",
       "      <td>2024-12-10 10:00:00</td>\n",
       "      <td>7968</td>\n",
       "      <td>309</td>\n",
       "      <td>icmp</td>\n",
       "      <td>45.83</td>\n",
       "      <td>Normal</td>\n",
       "    </tr>\n",
       "  </tbody>\n",
       "</table>\n",
       "</div>"
      ],
      "text/plain": [
       "                timestamp  bandwidth_in (kb)  bandwidth_out (kb) jenis_probo  \\\n",
       "6605  2024-12-17 01:00:00              10730                8464         tcp   \n",
       "6606  2024-12-24 18:00:00               3845                3345         udp   \n",
       "6607  2024-12-21 19:00:00              11797               10470        http   \n",
       "6608  2024-12-13 23:00:00               4165                6553         udp   \n",
       "6609  2024-12-13 10:00:00               8779                9878         tcp   \n",
       "6610  2024-12-11 14:00:00               6198                3550        icmp   \n",
       "6611  2024-12-16 18:00:00              10625                8534        icmp   \n",
       "6612  2024-12-15 18:00:00               7444                5807        http   \n",
       "6613  2024-12-13 21:00:00               6584                3367         udp   \n",
       "6614  2024-12-10 10:00:00               7968                 309        icmp   \n",
       "\n",
       "        ping   label  \n",
       "6605  147.19   Flood  \n",
       "6606  154.63  Normal  \n",
       "6607   70.82   Flood  \n",
       "6608   60.25  Normal  \n",
       "6609   22.90   Flood  \n",
       "6610  127.05  Normal  \n",
       "6611  165.72   Flood  \n",
       "6612   61.92  Normal  \n",
       "6613  194.45  Normal  \n",
       "6614   45.83  Normal  "
      ]
     },
     "execution_count": 18,
     "metadata": {},
     "output_type": "execute_result"
    }
   ],
   "source": [
    "networkpatterns.tail(10)"
   ]
  },
  {
   "cell_type": "code",
   "execution_count": 19,
   "metadata": {},
   "outputs": [
    {
     "name": "stdout",
     "output_type": "stream",
     "text": [
      "<class 'pandas.core.frame.DataFrame'>\n",
      "RangeIndex: 6615 entries, 0 to 6614\n",
      "Data columns (total 6 columns):\n",
      " #   Column              Non-Null Count  Dtype  \n",
      "---  ------              --------------  -----  \n",
      " 0   timestamp           6615 non-null   object \n",
      " 1   bandwidth_in (kb)   6615 non-null   int64  \n",
      " 2   bandwidth_out (kb)  6615 non-null   int64  \n",
      " 3   jenis_probo         6615 non-null   object \n",
      " 4   ping                6615 non-null   float64\n",
      " 5   label               6615 non-null   object \n",
      "dtypes: float64(1), int64(2), object(3)\n",
      "memory usage: 310.2+ KB\n"
     ]
    }
   ],
   "source": [
    "networkpatterns.info()"
   ]
  },
  {
   "cell_type": "code",
   "execution_count": 20,
   "metadata": {},
   "outputs": [],
   "source": [
    "# === 1. Data Preparation ===\n",
    "x_networkpatterns = networkpatterns[['bandwidth_in (kb)', 'bandwidth_out (kb)', 'ping']]\n",
    "y_networkpatterns = networkpatterns['label']"
   ]
  },
  {
   "cell_type": "code",
   "execution_count": 21,
   "metadata": {},
   "outputs": [],
   "source": [
    "# === 2. Encode Label ===\n",
    "label_encoder = LabelEncoder()\n",
    "y_encoded = label_encoder.fit_transform(y_networkpatterns)  # Flood = 1, Normal = 0"
   ]
  },
  {
   "cell_type": "code",
   "execution_count": 22,
   "metadata": {},
   "outputs": [],
   "source": [
    "# Splitting Dataset menjadi Data Training dan Data Testing\n",
    "X_networkpatterns_train, X_networkpatterns_test, y_networkpatterns_train, y_networkpatterns_test = train_test_split(\n",
    "    x_networkpatterns, y_encoded, test_size=0.2, random_state=42, stratify=y_encoded)"
   ]
  },
  {
   "cell_type": "code",
   "execution_count": 23,
   "metadata": {},
   "outputs": [],
   "source": [
    "# Standardisasi\n",
    "sc_networkpatterns = StandardScaler()\n",
    "X_networkpatterns_train = sc_networkpatterns.fit_transform(X_networkpatterns_train)\n",
    "X_networkpatterns_test = sc_networkpatterns.transform(X_networkpatterns_test)\n"
   ]
  },
  {
   "cell_type": "code",
   "execution_count": 24,
   "metadata": {},
   "outputs": [],
   "source": [
    "ER_networkpatterns = []\n",
    "k_range = range(1, 30)\n",
    "\n",
    "for k in k_range:\n",
    "    knn = KNeighborsClassifier(n_neighbors=k)\n",
    "    knn.fit(X_networkpatterns_train, y_networkpatterns_train)\n",
    "    y_pred = knn.predict(X_networkpatterns_test)\n",
    "    ER_networkpatterns.append(1 - accuracy_score(y_networkpatterns_test, y_pred))"
   ]
  },
  {
   "cell_type": "code",
   "execution_count": 25,
   "metadata": {},
   "outputs": [
    {
     "data": {
      "image/png": "[encoded data removed]",
      "text/plain": [
       "<Figure size 1000x600 with 1 Axes>"
      ]
     },
     "metadata": {},
     "output_type": "display_data"
    }
   ],
   "source": [
    "plt.figure(figsize=(10, 6))\n",
    "plt.plot(k_range, ER_networkpatterns, color='red', linestyle='dashed', marker='o', markerfacecolor='blue', markersize=10)\n",
    "plt.xlabel('Nilai K')\n",
    "plt.ylabel('Error Rate')\n",
    "plt.title('Error Rate terhadap Nilai K')\n",
    "plt.show()"
   ]
  },
  {
   "cell_type": "code",
   "execution_count": 26,
   "metadata": {},
   "outputs": [],
   "source": [
    "# Prosedur Pelatihan Model dengan KNN\n",
    "k_optimal = 10\n",
    "knn = KNeighborsClassifier(n_neighbors=k_optimal)\n",
    "knn.fit(X_networkpatterns_train, y_networkpatterns_train)\n",
    "y_networkpatterns_pred = knn.predict(X_networkpatterns_test)"
   ]
  },
  {
   "cell_type": "code",
   "execution_count": 27,
   "metadata": {},
   "outputs": [
    {
     "name": "stdout",
     "output_type": "stream",
     "text": [
      "Akurasi dengan k = 10 : 97.73%\n"
     ]
    }
   ],
   "source": [
    "#Evaluasi Model\n",
    "print(f'Akurasi dengan k = {k_optimal} : {accuracy_score(y_networkpatterns_test, y_networkpatterns_pred) * 100:.2f}%')"
   ]
  },
  {
   "cell_type": "code",
   "execution_count": 28,
   "metadata": {},
   "outputs": [
    {
     "name": "stdout",
     "output_type": "stream",
     "text": [
      "\n",
      "Confusion Matrix K 10: \n",
      "[[673   4]\n",
      " [ 26 620]]\n"
     ]
    }
   ],
   "source": [
    "# Confusion Matrix\n",
    "print(\"\\nConfusion Matrix K 10: \")\n",
    "print(confusion_matrix(y_networkpatterns_test, y_networkpatterns_pred))"
   ]
  },
  {
   "cell_type": "code",
   "execution_count": 29,
   "metadata": {},
   "outputs": [
    {
     "name": "stdout",
     "output_type": "stream",
     "text": [
      "\n",
      "Classification Report K 18: \n",
      "              precision    recall  f1-score   support\n",
      "\n",
      "       Flood       0.96      0.99      0.98       677\n",
      "      Normal       0.99      0.96      0.98       646\n",
      "\n",
      "    accuracy                           0.98      1323\n",
      "   macro avg       0.98      0.98      0.98      1323\n",
      "weighted avg       0.98      0.98      0.98      1323\n",
      "\n"
     ]
    }
   ],
   "source": [
    "# Classification Report\n",
    "print(\"\\nClassification Report K 18: \")\n",
    "print(classification_report(y_networkpatterns_test, y_networkpatterns_pred, target_names=label_encoder.classes_))"
   ]
  },
  {
   "cell_type": "code",
   "execution_count": 30,
   "metadata": {},
   "outputs": [
    {
     "name": "stdout",
     "output_type": "stream",
     "text": [
      "\n",
      "Probabilitas Prediksi untuk Data Testing:\n",
      "Data 1:\n",
      "  Flood: 0.00%\n",
      "  Normal: 100.00%\n",
      "\n",
      "Data 2:\n",
      "  Flood: 100.00%\n",
      "  Normal: 0.00%\n",
      "\n",
      "Data 3:\n",
      "  Flood: 0.00%\n",
      "  Normal: 100.00%\n",
      "\n",
      "Data 4:\n",
      "  Flood: 0.00%\n",
      "  Normal: 100.00%\n",
      "\n",
      "Data 5:\n",
      "  Flood: 100.00%\n",
      "  Normal: 0.00%\n",
      "\n"
     ]
    }
   ],
   "source": [
    "# Prediksi Probabilitas\n",
    "print(\"\\nProbabilitas Prediksi untuk Data Testing:\")\n",
    "y_prob = knn.predict_proba(X_networkpatterns_test)\n",
    "\n",
    "# Contoh: Tampilkan probabilitas untuk 5 data pertama\n",
    "for i in range(5):\n",
    "    print(f\"Data {i+1}:\")\n",
    "    print(f\"  Flood: {y_prob[i][1] * 100:.2f}%\")\n",
    "    print(f\"  Normal: {y_prob[i][0] * 100:.2f}%\\n\")"
   ]
  }
 ],
 "metadata": {
  "kernelspec": {
   "display_name": "Python 3",
   "language": "python",
   "name": "python3"
  },
  "language_info": {
   "codemirror_mode": {
    "name": "ipython",
    "version": 3
   },
   "file_extension": ".py",
   "mimetype": "text/x-python",
   "name": "python",
   "nbconvert_exporter": "python",
   "pygments_lexer": "ipython3",
   "version": "3.9.11"
  }
 },
 "nbformat": 4,
 "nbformat_minor": 2
}
